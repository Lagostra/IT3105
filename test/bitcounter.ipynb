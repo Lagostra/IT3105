{
 "cells": [
  {
   "cell_type": "code",
   "execution_count": 13,
   "metadata": {},
   "outputs": [],
   "source": [
    "import tensorflow as tf\n",
    "import tflowtools as tft\n",
    "import numpy as np\n",
    "import random"
   ]
  },
  {
   "cell_type": "code",
   "execution_count": 41,
   "metadata": {},
   "outputs": [],
   "source": [
    "input_size = 5\n",
    "output_size = input_size + 1\n",
    "learning_rate = 0.01\n",
    "num_steps = 2000\n",
    "minibatch_size = 100"
   ]
  },
  {
   "cell_type": "code",
   "execution_count": 7,
   "metadata": {},
   "outputs": [],
   "source": [
    "all_cases = np.array(tft.gen_vector_count_cases(200, input_size))\n",
    "inputs = all_cases[:,0]\n",
    "outputs = all_cases[:,1]"
   ]
  },
  {
   "cell_type": "code",
   "execution_count": 8,
   "metadata": {},
   "outputs": [],
   "source": [
    "inpt = tf.placeholder('float')\n",
    "x = inpt\n",
    "y = tf.placeholder('float')\n",
    "\n",
    "w1 = tf.Variable(tf.random_normal([input_size, 25]))\n",
    "w2 = tf.Variable(tf.random_normal([25, output_size]))\n",
    "\n",
    "b1 = tf.Variable(tf.random_normal([25]))\n",
    "b2 = tf.Variable(tf.random_normal([output_size]))"
   ]
  },
  {
   "cell_type": "code",
   "execution_count": 9,
   "metadata": {},
   "outputs": [],
   "source": [
    "x = tf.nn.relu(tf.add(tf.matmul(x, w1), b1))\n",
    "x = tf.nn.relu(tf.add(tf.matmul(x, w2), b2))"
   ]
  },
  {
   "cell_type": "code",
   "execution_count": 11,
   "metadata": {},
   "outputs": [],
   "source": [
    "loss = tf.reduce_mean(tf.square(y - x))\n",
    "train_op = tf.train.AdamOptimizer(learning_rate).minimize(loss)"
   ]
  },
  {
   "cell_type": "code",
   "execution_count": 48,
   "metadata": {},
   "outputs": [
    {
     "name": "stdout",
     "output_type": "stream",
     "text": [
      "50 0.2674225\n",
      "100 0.15915126\n",
      "150 0.15203926\n",
      "200 0.15806986\n",
      "250 0.15383886\n",
      "300 0.15016685\n",
      "350 0.155078\n",
      "400 0.1466839\n",
      "450 0.15166968\n",
      "500 0.14500077\n",
      "550 0.14833355\n",
      "600 0.16000013\n",
      "650 0.15333346\n",
      "700 0.14166673\n",
      "750 0.14833339\n",
      "800 0.14833336\n",
      "850 0.15000004\n",
      "900 0.14833334\n",
      "950 0.15166667\n",
      "1000 0.14666666\n",
      "1050 0.14333333\n",
      "1100 0.14833333\n",
      "1150 0.145\n",
      "1200 0.14666666\n",
      "1250 0.14666666\n",
      "1300 0.15333334\n",
      "1350 0.13833334\n",
      "1400 0.15\n",
      "1450 0.14666666\n",
      "1500 0.14833333\n",
      "1550 0.14833333\n",
      "1600 0.155\n",
      "1650 0.15333334\n",
      "1700 0.14833333\n",
      "1750 0.15166667\n",
      "1800 0.15166667\n",
      "1850 0.145\n",
      "1900 0.15333334\n",
      "1950 0.15\n",
      "2000 0.145\n",
      "[array([[0., 0., 0., 0., 0., 0.],\n",
      "       [0., 0., 0., 0., 0., 0.],\n",
      "       [0., 0., 0., 0., 0., 0.],\n",
      "       ...,\n",
      "       [0., 0., 0., 0., 0., 0.],\n",
      "       [0., 0., 0., 0., 0., 0.],\n",
      "       [0., 0., 0., 0., 0., 0.]], dtype=float32)]\n"
     ]
    }
   ],
   "source": [
    "with tf.Session() as sess:\n",
    "    sess.run(tf.global_variables_initializer())\n",
    "    \n",
    "    for i in range(1, num_steps + 1):\n",
    "        minibatch = np.array(random.sample(list(all_cases), minibatch_size))\n",
    "        x1 = list(minibatch[:,0])\n",
    "        y1 = list(minibatch[:,1])\n",
    "\n",
    "        _, l = sess.run([train_op, loss], feed_dict={inpt: x1, y: y1})\n",
    "        \n",
    "        if i % 50 == 0:\n",
    "            print(i, l)\n",
    "    \n",
    "    predictions = sess.run([x], feed_dict={inpt: list(inputs)})\n",
    "    p = tf.placeholder('float')\n",
    "    labels = sess.run([tf.argmax(p, axis=1)], feed_dict={p: list(outputs)})[0]\n",
    "    \n",
    "    print(predictions)\n",
    "    \n",
    "    #correct = sum([e[0] == e[1] for e in zip(predictions, labels)])\n",
    "    \n",
    "    #print('Accuracy: {}'.format(correct / 200))"
   ]
  }
 ],
 "metadata": {
  "kernelspec": {
   "display_name": "Tensorflow CPU (Python 3.6)",
   "language": "python",
   "name": "tensorflow-cpu"
  },
  "language_info": {
   "codemirror_mode": {
    "name": "ipython",
    "version": 3
   },
   "file_extension": ".py",
   "mimetype": "text/x-python",
   "name": "python",
   "nbconvert_exporter": "python",
   "pygments_lexer": "ipython3",
   "version": "3.6.6"
  }
 },
 "nbformat": 4,
 "nbformat_minor": 2
}
